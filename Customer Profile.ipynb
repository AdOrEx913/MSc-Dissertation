{
 "cells": [
  {
   "cell_type": "code",
   "execution_count": 25,
   "id": "b353d70f",
   "metadata": {},
   "outputs": [],
   "source": [
    "import numpy as np\n",
    "import pandas as pd\n",
    "from matplotlib import pyplot as plt\n",
    "%matplotlib inline\n",
    "import warnings\n",
    "warnings.filterwarnings('ignore')\n",
    "from datetime import datetime\n",
    "import time"
   ]
  },
  {
   "cell_type": "code",
   "execution_count": 2,
   "id": "c7132a3b",
   "metadata": {},
   "outputs": [],
   "source": [
    "Oct_19 = pd.read_csv('/Users/adorex/Downloads/e-BM/MSc Project and Dissertation/Dataset/2019-Oct.csv')\n",
    "rfm_Oct_19 = Oct_19.loc[Oct_19['event_type'] == 'purchase',['user_id','event_time','price']]"
   ]
  },
  {
   "cell_type": "code",
   "execution_count": 3,
   "id": "641afbe9",
   "metadata": {},
   "outputs": [],
   "source": [
    "Nov_19 = pd.read_csv('/Users/adorex/Downloads/e-BM/MSc Project and Dissertation/Dataset/2019-Nov.csv')\n",
    "rfm_Nov_19 = Nov_19.loc[Nov_19['event_type'] == 'purchase',['user_id','event_time','price']]"
   ]
  },
  {
   "cell_type": "code",
   "execution_count": 4,
   "id": "fdc66277",
   "metadata": {},
   "outputs": [],
   "source": [
    "Dec_19 = pd.read_csv('/Users/adorex/Downloads/e-BM/MSc Project and Dissertation/Dataset/2019-Dec.csv')\n",
    "rfm_Dec_19 = Dec_19.loc[Dec_19['event_type'] == 'purchase',['user_id','event_time','price']]"
   ]
  },
  {
   "cell_type": "code",
   "execution_count": 5,
   "id": "20f60716",
   "metadata": {},
   "outputs": [],
   "source": [
    "Jan_20 = pd.read_csv('/Users/adorex/Downloads/e-BM/MSc Project and Dissertation/Dataset/2020-Jan.csv')\n",
    "rfm_Jan_20 = Jan_20.loc[Jan_20['event_type'] == 'purchase',['user_id','event_time','price']]"
   ]
  },
  {
   "cell_type": "code",
   "execution_count": 6,
   "id": "6e8109ce",
   "metadata": {},
   "outputs": [],
   "source": [
    "Feb_20 = pd.read_csv('/Users/adorex/Downloads/e-BM/MSc Project and Dissertation/Dataset/2020-Feb.csv')\n",
    "rfm_Feb_20 = Feb_20.loc[Feb_20['event_type'] == 'purchase',['user_id','event_time','price']]"
   ]
  },
  {
   "cell_type": "code",
   "execution_count": 7,
   "id": "23f6a82b",
   "metadata": {},
   "outputs": [],
   "source": [
    "Mar_20 = pd.read_csv('/Users/adorex/Downloads/e-BM/MSc Project and Dissertation/Dataset/2020-Mar.csv')\n",
    "rfm_Mar_20 = Mar_20.loc[Mar_20['event_type'] == 'purchase',['user_id','event_time','price']]"
   ]
  },
  {
   "cell_type": "code",
   "execution_count": 8,
   "id": "c991a1dc",
   "metadata": {},
   "outputs": [],
   "source": [
    "Apr_20 = pd.read_csv('/Users/adorex/Downloads/e-BM/MSc Project and Dissertation/Dataset/2020-Apr.csv')\n",
    "rfm_Apr_20 = Apr_20.loc[Apr_20['event_type'] == 'purchase',['user_id','event_time','price']]"
   ]
  },
  {
   "cell_type": "code",
   "execution_count": 9,
   "id": "56827f76",
   "metadata": {},
   "outputs": [],
   "source": [
    "rfm_data = pd.concat([rfm_Oct_19,rfm_Nov_19,rfm_Dec_19,rfm_Jan_20,rfm_Feb_20,rfm_Mar_20,rfm_Apr_20],axis=0)"
   ]
  },
  {
   "cell_type": "code",
   "execution_count": 10,
   "id": "233de641",
   "metadata": {},
   "outputs": [],
   "source": [
    "rfm_data.drop_duplicates(inplace = True)"
   ]
  },
  {
   "cell_type": "code",
   "execution_count": 11,
   "id": "9ad099e1",
   "metadata": {},
   "outputs": [
    {
     "data": {
      "text/html": [
       "<div>\n",
       "<style scoped>\n",
       "    .dataframe tbody tr th:only-of-type {\n",
       "        vertical-align: middle;\n",
       "    }\n",
       "\n",
       "    .dataframe tbody tr th {\n",
       "        vertical-align: top;\n",
       "    }\n",
       "\n",
       "    .dataframe thead th {\n",
       "        text-align: right;\n",
       "    }\n",
       "</style>\n",
       "<table border=\"1\" class=\"dataframe\">\n",
       "  <thead>\n",
       "    <tr style=\"text-align: right;\">\n",
       "      <th></th>\n",
       "      <th>user_id</th>\n",
       "      <th>event_time</th>\n",
       "      <th>price</th>\n",
       "    </tr>\n",
       "  </thead>\n",
       "  <tbody>\n",
       "    <tr>\n",
       "      <th>162</th>\n",
       "      <td>543272936</td>\n",
       "      <td>2019-10-01 00:02:14 UTC</td>\n",
       "      <td>130.76</td>\n",
       "    </tr>\n",
       "    <tr>\n",
       "      <th>308</th>\n",
       "      <td>551377651</td>\n",
       "      <td>2019-10-01 00:04:37 UTC</td>\n",
       "      <td>642.69</td>\n",
       "    </tr>\n",
       "    <tr>\n",
       "      <th>379</th>\n",
       "      <td>514591159</td>\n",
       "      <td>2019-10-01 00:06:02 UTC</td>\n",
       "      <td>29.51</td>\n",
       "    </tr>\n",
       "    <tr>\n",
       "      <th>442</th>\n",
       "      <td>555332717</td>\n",
       "      <td>2019-10-01 00:07:07 UTC</td>\n",
       "      <td>54.42</td>\n",
       "    </tr>\n",
       "    <tr>\n",
       "      <th>574</th>\n",
       "      <td>524601178</td>\n",
       "      <td>2019-10-01 00:09:26 UTC</td>\n",
       "      <td>189.91</td>\n",
       "    </tr>\n",
       "  </tbody>\n",
       "</table>\n",
       "</div>"
      ],
      "text/plain": [
       "       user_id               event_time   price\n",
       "162  543272936  2019-10-01 00:02:14 UTC  130.76\n",
       "308  551377651  2019-10-01 00:04:37 UTC  642.69\n",
       "379  514591159  2019-10-01 00:06:02 UTC   29.51\n",
       "442  555332717  2019-10-01 00:07:07 UTC   54.42\n",
       "574  524601178  2019-10-01 00:09:26 UTC  189.91"
      ]
     },
     "execution_count": 11,
     "metadata": {},
     "output_type": "execute_result"
    }
   ],
   "source": [
    "rfm_data.head()"
   ]
  },
  {
   "cell_type": "code",
   "execution_count": 12,
   "id": "ff287657",
   "metadata": {},
   "outputs": [],
   "source": [
    "rfm_data[\"event_time\"] = rfm_data[\"event_time\"].apply(lambda x:x[:-12])"
   ]
  },
  {
   "cell_type": "code",
   "execution_count": 14,
   "id": "184b1dba",
   "metadata": {},
   "outputs": [],
   "source": [
    "rfm_data['event_time'] = pd.to_datetime(rfm_data['event_time'])"
   ]
  },
  {
   "cell_type": "code",
   "execution_count": 15,
   "id": "aed584c5",
   "metadata": {},
   "outputs": [],
   "source": [
    "rfm_data.event_time = pd.to_datetime(rfm_data.event_time,format='%Y-%m-%d')"
   ]
  },
  {
   "cell_type": "code",
   "execution_count": 16,
   "id": "e3378005",
   "metadata": {},
   "outputs": [
    {
     "data": {
      "text/html": [
       "<div>\n",
       "<style scoped>\n",
       "    .dataframe tbody tr th:only-of-type {\n",
       "        vertical-align: middle;\n",
       "    }\n",
       "\n",
       "    .dataframe tbody tr th {\n",
       "        vertical-align: top;\n",
       "    }\n",
       "\n",
       "    .dataframe thead th {\n",
       "        text-align: right;\n",
       "    }\n",
       "</style>\n",
       "<table border=\"1\" class=\"dataframe\">\n",
       "  <thead>\n",
       "    <tr style=\"text-align: right;\">\n",
       "      <th></th>\n",
       "      <th>user_id</th>\n",
       "      <th>event_time</th>\n",
       "      <th>price</th>\n",
       "    </tr>\n",
       "  </thead>\n",
       "  <tbody>\n",
       "    <tr>\n",
       "      <th>162</th>\n",
       "      <td>543272936</td>\n",
       "      <td>2019-10-01</td>\n",
       "      <td>130.76</td>\n",
       "    </tr>\n",
       "    <tr>\n",
       "      <th>308</th>\n",
       "      <td>551377651</td>\n",
       "      <td>2019-10-01</td>\n",
       "      <td>642.69</td>\n",
       "    </tr>\n",
       "    <tr>\n",
       "      <th>379</th>\n",
       "      <td>514591159</td>\n",
       "      <td>2019-10-01</td>\n",
       "      <td>29.51</td>\n",
       "    </tr>\n",
       "    <tr>\n",
       "      <th>442</th>\n",
       "      <td>555332717</td>\n",
       "      <td>2019-10-01</td>\n",
       "      <td>54.42</td>\n",
       "    </tr>\n",
       "    <tr>\n",
       "      <th>574</th>\n",
       "      <td>524601178</td>\n",
       "      <td>2019-10-01</td>\n",
       "      <td>189.91</td>\n",
       "    </tr>\n",
       "  </tbody>\n",
       "</table>\n",
       "</div>"
      ],
      "text/plain": [
       "       user_id event_time   price\n",
       "162  543272936 2019-10-01  130.76\n",
       "308  551377651 2019-10-01  642.69\n",
       "379  514591159 2019-10-01   29.51\n",
       "442  555332717 2019-10-01   54.42\n",
       "574  524601178 2019-10-01  189.91"
      ]
     },
     "execution_count": 16,
     "metadata": {},
     "output_type": "execute_result"
    }
   ],
   "source": [
    "rfm_data.head()"
   ]
  },
  {
   "cell_type": "code",
   "execution_count": 18,
   "id": "586326d3",
   "metadata": {},
   "outputs": [],
   "source": [
    "# R data\n",
    "rfm_data['gap'] = pd.to_datetime('2020-04-30') - rfm_data.event_time\n",
    "rfm_data['gap'] = rfm_data['gap'].apply(lambda x:x.days) # delete days"
   ]
  },
  {
   "cell_type": "code",
   "execution_count": 21,
   "id": "d0cdc071",
   "metadata": {},
   "outputs": [
    {
     "data": {
      "text/html": [
       "<div>\n",
       "<style scoped>\n",
       "    .dataframe tbody tr th:only-of-type {\n",
       "        vertical-align: middle;\n",
       "    }\n",
       "\n",
       "    .dataframe tbody tr th {\n",
       "        vertical-align: top;\n",
       "    }\n",
       "\n",
       "    .dataframe thead th {\n",
       "        text-align: right;\n",
       "    }\n",
       "</style>\n",
       "<table border=\"1\" class=\"dataframe\">\n",
       "  <thead>\n",
       "    <tr style=\"text-align: right;\">\n",
       "      <th></th>\n",
       "      <th>User ID</th>\n",
       "      <th>R</th>\n",
       "      <th>F</th>\n",
       "      <th>M</th>\n",
       "    </tr>\n",
       "  </thead>\n",
       "  <tbody>\n",
       "    <tr>\n",
       "      <th>0</th>\n",
       "      <td>96369466</td>\n",
       "      <td>11</td>\n",
       "      <td>1</td>\n",
       "      <td>50.71</td>\n",
       "    </tr>\n",
       "    <tr>\n",
       "      <th>1</th>\n",
       "      <td>101875240</td>\n",
       "      <td>105</td>\n",
       "      <td>1</td>\n",
       "      <td>184.52</td>\n",
       "    </tr>\n",
       "    <tr>\n",
       "      <th>2</th>\n",
       "      <td>107620212</td>\n",
       "      <td>91</td>\n",
       "      <td>1</td>\n",
       "      <td>244.28</td>\n",
       "    </tr>\n",
       "    <tr>\n",
       "      <th>3</th>\n",
       "      <td>128029678</td>\n",
       "      <td>22</td>\n",
       "      <td>3</td>\n",
       "      <td>569.89</td>\n",
       "    </tr>\n",
       "    <tr>\n",
       "      <th>4</th>\n",
       "      <td>128968633</td>\n",
       "      <td>54</td>\n",
       "      <td>4</td>\n",
       "      <td>714.01</td>\n",
       "    </tr>\n",
       "  </tbody>\n",
       "</table>\n",
       "</div>"
      ],
      "text/plain": [
       "     User ID    R  F       M\n",
       "0   96369466   11  1   50.71\n",
       "1  101875240  105  1  184.52\n",
       "2  107620212   91  1  244.28\n",
       "3  128029678   22  3  569.89\n",
       "4  128968633   54  4  714.01"
      ]
     },
     "execution_count": 21,
     "metadata": {},
     "output_type": "execute_result"
    }
   ],
   "source": [
    "# RFM data\n",
    "rfm = rfm_data.groupby(['user_id']).agg({'gap':'min','event_time':'count','price':'sum'})\n",
    "# rfm = (rfm - rfm.mean(axis = 0))/(rfm.std(axis = 0)) # standardisation (mean=0, standard deviation=1)\n",
    "rfm.reset_index(inplace = True) # reset index\n",
    "rfm.columns = ['User ID','R','F','M'] # renanme columns \n",
    "rfm.head()"
   ]
  },
  {
   "cell_type": "code",
   "execution_count": 22,
   "id": "f2d7f842",
   "metadata": {},
   "outputs": [],
   "source": [
    "rfm.to_csv('/Users/adorex/Downloads/e-BM/MSc Project and Dissertation/Dataset/RFM.csv',index=False)"
   ]
  },
  {
   "cell_type": "code",
   "execution_count": 23,
   "id": "51c0db80",
   "metadata": {},
   "outputs": [],
   "source": [
    "# Z-Score Standardisation ()\n",
    "from sklearn.preprocessing import StandardScaler\n",
    "\n",
    "ss = StandardScaler()\n",
    "scale_features = ['R', 'F', 'M']\n",
    "\n",
    "rfm[scale_features] = ss.fit_transform(rfm[scale_features])"
   ]
  },
  {
   "cell_type": "code",
   "execution_count": 29,
   "id": "ba69d9bb",
   "metadata": {},
   "outputs": [
    {
     "data": {
      "text/plain": [
       "[<matplotlib.lines.Line2D at 0x7f8e21667df0>]"
      ]
     },
     "execution_count": 29,
     "metadata": {},
     "output_type": "execute_result"
    },
    {
     "data": {
      "image/png": "[encoded data removed]",
      "text/plain": [
       "<Figure size 432x288 with 1 Axes>"
      ]
     },
     "metadata": {
      "needs_background": "light"
     },
     "output_type": "display_data"
    }
   ],
   "source": [
    "# SSE (the elbow method)\n",
    "from sklearn.cluster import KMeans\n",
    "sse = []\n",
    "for i in range(2,8): \n",
    "  km = KMeans(n_clusters=i).fit(rfm.loc[:,['R','F','M']])\n",
    "  sse.append(km.inertia_)\n",
    "plt.plot(range(2,8),sse,marker='o')"
   ]
  },
  {
   "cell_type": "code",
   "execution_count": null,
   "id": "1d28139b",
   "metadata": {},
   "outputs": [],
   "source": [
    "# Silhouette Coefficient\n",
    "from sklearn.metrics import silhouette_score\n",
    "score=[]\n",
    "for i in range(2,8):\n",
    "  km = KMeans(n_clusters=i).fit(rfm.loc[:,['R','F','M']])\n",
    "  score.append(silhouette_score(rfm.loc[:,['R','F','M']],km.labels_))\n",
    "plt.plot(range(2,8),score,marker='o')"
   ]
  },
  {
   "cell_type": "code",
   "execution_count": 31,
   "id": "43a27719",
   "metadata": {},
   "outputs": [
    {
     "data": {
      "text/plain": [
       "KMeans(n_clusters=3)"
      ]
     },
     "execution_count": 31,
     "metadata": {},
     "output_type": "execute_result"
    }
   ],
   "source": [
    "# perform clustering with k=3\n",
    "n_clusters = 3 \n",
    "kmodel = KMeans(n_clusters=n_clusters).fit(rfm.loc[:,['R','F','M']])\n",
    "kmodel"
   ]
  },
  {
   "cell_type": "code",
   "execution_count": 32,
   "id": "346bf0c7",
   "metadata": {},
   "outputs": [
    {
     "data": {
      "text/plain": [
       "array([[-7.79056829e-01,  3.68666183e-02,  7.29428140e-03],\n",
       "       [ 9.83979664e-01, -1.42065211e-01, -1.00967456e-01],\n",
       "       [-5.80742455e-01,  9.37049578e+00,  8.98190442e+00]])"
      ]
     },
     "execution_count": 32,
     "metadata": {},
     "output_type": "execute_result"
    }
   ],
   "source": [
    "centroid = kmodel.cluster_centers_\n",
    "centroid"
   ]
  },
  {
   "cell_type": "code",
   "execution_count": 33,
   "id": "05168338",
   "metadata": {},
   "outputs": [
    {
     "data": {
      "text/plain": [
       "array([0, 1, 0, ..., 0, 0, 0], dtype=int32)"
      ]
     },
     "execution_count": 33,
     "metadata": {},
     "output_type": "execute_result"
    }
   ],
   "source": [
    "y_pred = kmodel.labels_\n",
    "y_pred"
   ]
  },
  {
   "cell_type": "code",
   "execution_count": 34,
   "id": "d93a1a23",
   "metadata": {},
   "outputs": [
    {
     "data": {
      "text/html": [
       "<div>\n",
       "<style scoped>\n",
       "    .dataframe tbody tr th:only-of-type {\n",
       "        vertical-align: middle;\n",
       "    }\n",
       "\n",
       "    .dataframe tbody tr th {\n",
       "        vertical-align: top;\n",
       "    }\n",
       "\n",
       "    .dataframe thead th {\n",
       "        text-align: right;\n",
       "    }\n",
       "</style>\n",
       "<table border=\"1\" class=\"dataframe\">\n",
       "  <thead>\n",
       "    <tr style=\"text-align: right;\">\n",
       "      <th></th>\n",
       "      <th>User ID</th>\n",
       "      <th>R</th>\n",
       "      <th>F</th>\n",
       "      <th>M</th>\n",
       "      <th>Category</th>\n",
       "    </tr>\n",
       "  </thead>\n",
       "  <tbody>\n",
       "    <tr>\n",
       "      <th>0</th>\n",
       "      <td>96369466</td>\n",
       "      <td>-1.250928</td>\n",
       "      <td>-0.283642</td>\n",
       "      <td>-0.257533</td>\n",
       "      <td>0</td>\n",
       "    </tr>\n",
       "    <tr>\n",
       "      <th>1</th>\n",
       "      <td>101875240</td>\n",
       "      <td>0.264386</td>\n",
       "      <td>-0.283642</td>\n",
       "      <td>-0.220198</td>\n",
       "      <td>1</td>\n",
       "    </tr>\n",
       "    <tr>\n",
       "      <th>2</th>\n",
       "      <td>107620212</td>\n",
       "      <td>0.038701</td>\n",
       "      <td>-0.283642</td>\n",
       "      <td>-0.203523</td>\n",
       "      <td>0</td>\n",
       "    </tr>\n",
       "    <tr>\n",
       "      <th>3</th>\n",
       "      <td>128029678</td>\n",
       "      <td>-1.073604</td>\n",
       "      <td>-0.030772</td>\n",
       "      <td>-0.112671</td>\n",
       "      <td>0</td>\n",
       "    </tr>\n",
       "    <tr>\n",
       "      <th>4</th>\n",
       "      <td>128968633</td>\n",
       "      <td>-0.557752</td>\n",
       "      <td>0.095662</td>\n",
       "      <td>-0.072459</td>\n",
       "      <td>0</td>\n",
       "    </tr>\n",
       "    <tr>\n",
       "      <th>...</th>\n",
       "      <td>...</td>\n",
       "      <td>...</td>\n",
       "      <td>...</td>\n",
       "      <td>...</td>\n",
       "      <td>...</td>\n",
       "    </tr>\n",
       "    <tr>\n",
       "      <th>2064894</th>\n",
       "      <td>649770487</td>\n",
       "      <td>-1.428252</td>\n",
       "      <td>-0.283642</td>\n",
       "      <td>-0.231534</td>\n",
       "      <td>0</td>\n",
       "    </tr>\n",
       "    <tr>\n",
       "      <th>2064895</th>\n",
       "      <td>649770848</td>\n",
       "      <td>-1.428252</td>\n",
       "      <td>-0.157207</td>\n",
       "      <td>-0.076340</td>\n",
       "      <td>0</td>\n",
       "    </tr>\n",
       "    <tr>\n",
       "      <th>2064896</th>\n",
       "      <td>649771260</td>\n",
       "      <td>-1.428252</td>\n",
       "      <td>-0.283642</td>\n",
       "      <td>-0.172973</td>\n",
       "      <td>0</td>\n",
       "    </tr>\n",
       "    <tr>\n",
       "      <th>2064897</th>\n",
       "      <td>649772024</td>\n",
       "      <td>-1.428252</td>\n",
       "      <td>-0.283642</td>\n",
       "      <td>-0.252433</td>\n",
       "      <td>0</td>\n",
       "    </tr>\n",
       "    <tr>\n",
       "      <th>2064898</th>\n",
       "      <td>649773998</td>\n",
       "      <td>-1.428252</td>\n",
       "      <td>-0.283642</td>\n",
       "      <td>-0.263998</td>\n",
       "      <td>0</td>\n",
       "    </tr>\n",
       "  </tbody>\n",
       "</table>\n",
       "<p>2064899 rows × 5 columns</p>\n",
       "</div>"
      ],
      "text/plain": [
       "           User ID         R         F         M  Category\n",
       "0         96369466 -1.250928 -0.283642 -0.257533         0\n",
       "1        101875240  0.264386 -0.283642 -0.220198         1\n",
       "2        107620212  0.038701 -0.283642 -0.203523         0\n",
       "3        128029678 -1.073604 -0.030772 -0.112671         0\n",
       "4        128968633 -0.557752  0.095662 -0.072459         0\n",
       "...            ...       ...       ...       ...       ...\n",
       "2064894  649770487 -1.428252 -0.283642 -0.231534         0\n",
       "2064895  649770848 -1.428252 -0.157207 -0.076340         0\n",
       "2064896  649771260 -1.428252 -0.283642 -0.172973         0\n",
       "2064897  649772024 -1.428252 -0.283642 -0.252433         0\n",
       "2064898  649773998 -1.428252 -0.283642 -0.263998         0\n",
       "\n",
       "[2064899 rows x 5 columns]"
      ]
     },
     "execution_count": 34,
     "metadata": {},
     "output_type": "execute_result"
    }
   ],
   "source": [
    "# Add 'Category' to the rfm dataframe\n",
    "rfm['Category'] = y_pred\n",
    "rfm"
   ]
  },
  {
   "cell_type": "code",
   "execution_count": 35,
   "id": "990833f2",
   "metadata": {},
   "outputs": [
    {
     "data": {
      "text/plain": [
       "0    1144191\n",
       "1     911403\n",
       "2       9305\n",
       "Name: Category, dtype: int64"
      ]
     },
     "execution_count": 35,
     "metadata": {},
     "output_type": "execute_result"
    }
   ],
   "source": [
    "# View the number of customer in each category\n",
    "rfm['Category'].value_counts()"
   ]
  },
  {
   "cell_type": "code",
   "execution_count": 36,
   "id": "c26d95b8",
   "metadata": {},
   "outputs": [
    {
     "data": {
      "text/html": [
       "<div>\n",
       "<style scoped>\n",
       "    .dataframe tbody tr th:only-of-type {\n",
       "        vertical-align: middle;\n",
       "    }\n",
       "\n",
       "    .dataframe tbody tr th {\n",
       "        vertical-align: top;\n",
       "    }\n",
       "\n",
       "    .dataframe thead th {\n",
       "        text-align: right;\n",
       "    }\n",
       "</style>\n",
       "<table border=\"1\" class=\"dataframe\">\n",
       "  <thead>\n",
       "    <tr style=\"text-align: right;\">\n",
       "      <th></th>\n",
       "      <th>R</th>\n",
       "      <th>F</th>\n",
       "      <th>M</th>\n",
       "      <th>Cluster points</th>\n",
       "    </tr>\n",
       "  </thead>\n",
       "  <tbody>\n",
       "    <tr>\n",
       "      <th>0</th>\n",
       "      <td>-0.779057</td>\n",
       "      <td>0.036867</td>\n",
       "      <td>0.007294</td>\n",
       "      <td>1144191</td>\n",
       "    </tr>\n",
       "    <tr>\n",
       "      <th>1</th>\n",
       "      <td>0.983980</td>\n",
       "      <td>-0.142065</td>\n",
       "      <td>-0.100967</td>\n",
       "      <td>911403</td>\n",
       "    </tr>\n",
       "    <tr>\n",
       "      <th>2</th>\n",
       "      <td>-0.580742</td>\n",
       "      <td>9.370496</td>\n",
       "      <td>8.981904</td>\n",
       "      <td>9305</td>\n",
       "    </tr>\n",
       "  </tbody>\n",
       "</table>\n",
       "</div>"
      ],
      "text/plain": [
       "          R         F         M  Cluster points\n",
       "0 -0.779057  0.036867  0.007294         1144191\n",
       "1  0.983980 -0.142065 -0.100967          911403\n",
       "2 -0.580742  9.370496  8.981904            9305"
      ]
     },
     "execution_count": 36,
     "metadata": {},
     "output_type": "execute_result"
    }
   ],
   "source": [
    "# Convert the number of customer in each category and centroids into tabular form, and concat them together\n",
    "r1 = pd.Series(y_pred).value_counts() # the number of customer in each category\n",
    "r2 = pd.DataFrame(centroid) # centroid\n",
    "r = pd.concat([r2,r1],axis=1)\n",
    "r.columns = list(rfm.loc[:,['R','F','M']]) + ['Cluster points']\n",
    "r"
   ]
  },
  {
   "cell_type": "code",
   "execution_count": 130,
   "id": "ab3d6569",
   "metadata": {},
   "outputs": [
    {
     "ename": "ValueError",
     "evalue": "The number of FixedLocator locations (4), usually from a call to set_ticks, does not match the number of ticklabels (3).",
     "output_type": "error",
     "traceback": [
      "\u001b[0;31m---------------------------------------------------------------------------\u001b[0m",
      "\u001b[0;31mValueError\u001b[0m                                Traceback (most recent call last)",
      "\u001b[0;32m<ipython-input-130-9a6e9f14cd9f>\u001b[0m in \u001b[0;36m<module>\u001b[0;34m\u001b[0m\n\u001b[1;32m     17\u001b[0m     \u001b[0max\u001b[0m\u001b[0;34m.\u001b[0m\u001b[0mplot\u001b[0m\u001b[0;34m(\u001b[0m\u001b[0mangles\u001b[0m\u001b[0;34m,\u001b[0m \u001b[0mcentre\u001b[0m\u001b[0;34m,\u001b[0m \u001b[0;34m'o-'\u001b[0m\u001b[0;34m,\u001b[0m \u001b[0mlinewidth\u001b[0m\u001b[0;34m=\u001b[0m\u001b[0;36m2\u001b[0m\u001b[0;34m,\u001b[0m \u001b[0mlabel\u001b[0m\u001b[0;34m=\u001b[0m\u001b[0;34m\"Category%d, %d\"\u001b[0m\u001b[0;34m%\u001b[0m\u001b[0;34m(\u001b[0m\u001b[0mi\u001b[0m\u001b[0;34m+\u001b[0m\u001b[0;36m1\u001b[0m\u001b[0;34m,\u001b[0m\u001b[0mv\u001b[0m\u001b[0;34m[\u001b[0m\u001b[0;34m-\u001b[0m\u001b[0;36m1\u001b[0m\u001b[0;34m]\u001b[0m\u001b[0;34m)\u001b[0m\u001b[0;34m)\u001b[0m\u001b[0;34m\u001b[0m\u001b[0;34m\u001b[0m\u001b[0m\n\u001b[1;32m     18\u001b[0m     \u001b[0max\u001b[0m\u001b[0;34m.\u001b[0m\u001b[0mfill\u001b[0m\u001b[0;34m(\u001b[0m\u001b[0mangles\u001b[0m\u001b[0;34m,\u001b[0m \u001b[0mcentre\u001b[0m\u001b[0;34m,\u001b[0m \u001b[0malpha\u001b[0m\u001b[0;34m=\u001b[0m\u001b[0;36m0.25\u001b[0m\u001b[0;34m)\u001b[0m\u001b[0;34m\u001b[0m\u001b[0;34m\u001b[0m\u001b[0m\n\u001b[0;32m---> 19\u001b[0;31m     \u001b[0max\u001b[0m\u001b[0;34m.\u001b[0m\u001b[0mset_thetagrids\u001b[0m\u001b[0;34m(\u001b[0m\u001b[0mangles\u001b[0m \u001b[0;34m*\u001b[0m \u001b[0;36m180\u001b[0m \u001b[0;34m/\u001b[0m \u001b[0mnp\u001b[0m\u001b[0;34m.\u001b[0m\u001b[0mpi\u001b[0m\u001b[0;34m,\u001b[0m \u001b[0mfeature\u001b[0m\u001b[0;34m,\u001b[0m \u001b[0mfontsize\u001b[0m\u001b[0;34m=\u001b[0m\u001b[0;36m15\u001b[0m\u001b[0;34m)\u001b[0m\u001b[0;34m\u001b[0m\u001b[0;34m\u001b[0m\u001b[0m\n\u001b[0m\u001b[1;32m     20\u001b[0m     \u001b[0max\u001b[0m\u001b[0;34m.\u001b[0m\u001b[0mset_ylim\u001b[0m\u001b[0;34m(\u001b[0m\u001b[0mmin\u001b[0m \u001b[0;34m-\u001b[0m \u001b[0;36m0.1\u001b[0m\u001b[0;34m,\u001b[0m \u001b[0mmax\u001b[0m \u001b[0;34m+\u001b[0m \u001b[0;36m0.1\u001b[0m\u001b[0;34m)\u001b[0m\u001b[0;34m\u001b[0m\u001b[0;34m\u001b[0m\u001b[0m\n\u001b[1;32m     21\u001b[0m     \u001b[0mplt\u001b[0m\u001b[0;34m.\u001b[0m\u001b[0mtitle\u001b[0m\u001b[0;34m(\u001b[0m\u001b[0;34m'Customer Segment Profile Chart'\u001b[0m\u001b[0;34m,\u001b[0m \u001b[0mfontsize\u001b[0m\u001b[0;34m=\u001b[0m\u001b[0;36m22\u001b[0m\u001b[0;34m)\u001b[0m\u001b[0;34m\u001b[0m\u001b[0;34m\u001b[0m\u001b[0m\n",
      "\u001b[0;32m~/opt/anaconda3/lib/python3.8/site-packages/matplotlib/projections/polar.py\u001b[0m in \u001b[0;36mset_thetagrids\u001b[0;34m(self, angles, labels, fmt, **kwargs)\u001b[0m\n\u001b[1;32m   1319\u001b[0m         \u001b[0mself\u001b[0m\u001b[0;34m.\u001b[0m\u001b[0mset_xticks\u001b[0m\u001b[0;34m(\u001b[0m\u001b[0mangles\u001b[0m\u001b[0;34m)\u001b[0m\u001b[0;34m\u001b[0m\u001b[0;34m\u001b[0m\u001b[0m\n\u001b[1;32m   1320\u001b[0m         \u001b[0;32mif\u001b[0m \u001b[0mlabels\u001b[0m \u001b[0;32mis\u001b[0m \u001b[0;32mnot\u001b[0m \u001b[0;32mNone\u001b[0m\u001b[0;34m:\u001b[0m\u001b[0;34m\u001b[0m\u001b[0;34m\u001b[0m\u001b[0m\n\u001b[0;32m-> 1321\u001b[0;31m             \u001b[0mself\u001b[0m\u001b[0;34m.\u001b[0m\u001b[0mset_xticklabels\u001b[0m\u001b[0;34m(\u001b[0m\u001b[0mlabels\u001b[0m\u001b[0;34m)\u001b[0m\u001b[0;34m\u001b[0m\u001b[0;34m\u001b[0m\u001b[0m\n\u001b[0m\u001b[1;32m   1322\u001b[0m         \u001b[0;32melif\u001b[0m \u001b[0mfmt\u001b[0m \u001b[0;32mis\u001b[0m \u001b[0;32mnot\u001b[0m \u001b[0;32mNone\u001b[0m\u001b[0;34m:\u001b[0m\u001b[0;34m\u001b[0m\u001b[0;34m\u001b[0m\u001b[0m\n\u001b[1;32m   1323\u001b[0m             \u001b[0mself\u001b[0m\u001b[0;34m.\u001b[0m\u001b[0mxaxis\u001b[0m\u001b[0;34m.\u001b[0m\u001b[0mset_major_formatter\u001b[0m\u001b[0;34m(\u001b[0m\u001b[0mmticker\u001b[0m\u001b[0;34m.\u001b[0m\u001b[0mFormatStrFormatter\u001b[0m\u001b[0;34m(\u001b[0m\u001b[0mfmt\u001b[0m\u001b[0;34m)\u001b[0m\u001b[0;34m)\u001b[0m\u001b[0;34m\u001b[0m\u001b[0;34m\u001b[0m\u001b[0m\n",
      "\u001b[0;32m~/opt/anaconda3/lib/python3.8/site-packages/matplotlib/axes/_base.py\u001b[0m in \u001b[0;36mwrapper\u001b[0;34m(self, *args, **kwargs)\u001b[0m\n\u001b[1;32m     73\u001b[0m \u001b[0;34m\u001b[0m\u001b[0m\n\u001b[1;32m     74\u001b[0m         \u001b[0;32mdef\u001b[0m \u001b[0mwrapper\u001b[0m\u001b[0;34m(\u001b[0m\u001b[0mself\u001b[0m\u001b[0;34m,\u001b[0m \u001b[0;34m*\u001b[0m\u001b[0margs\u001b[0m\u001b[0;34m,\u001b[0m \u001b[0;34m**\u001b[0m\u001b[0mkwargs\u001b[0m\u001b[0;34m)\u001b[0m\u001b[0;34m:\u001b[0m\u001b[0;34m\u001b[0m\u001b[0;34m\u001b[0m\u001b[0m\n\u001b[0;32m---> 75\u001b[0;31m             \u001b[0;32mreturn\u001b[0m \u001b[0mget_method\u001b[0m\u001b[0;34m(\u001b[0m\u001b[0mself\u001b[0m\u001b[0;34m)\u001b[0m\u001b[0;34m(\u001b[0m\u001b[0;34m*\u001b[0m\u001b[0margs\u001b[0m\u001b[0;34m,\u001b[0m \u001b[0;34m**\u001b[0m\u001b[0mkwargs\u001b[0m\u001b[0;34m)\u001b[0m\u001b[0;34m\u001b[0m\u001b[0;34m\u001b[0m\u001b[0m\n\u001b[0m\u001b[1;32m     76\u001b[0m \u001b[0;34m\u001b[0m\u001b[0m\n\u001b[1;32m     77\u001b[0m         \u001b[0mwrapper\u001b[0m\u001b[0;34m.\u001b[0m\u001b[0m__module__\u001b[0m \u001b[0;34m=\u001b[0m \u001b[0mowner\u001b[0m\u001b[0;34m.\u001b[0m\u001b[0m__module__\u001b[0m\u001b[0;34m\u001b[0m\u001b[0;34m\u001b[0m\u001b[0m\n",
      "\u001b[0;32m~/opt/anaconda3/lib/python3.8/site-packages/matplotlib/axis.py\u001b[0m in \u001b[0;36m_set_ticklabels\u001b[0;34m(self, labels, fontdict, minor, **kwargs)\u001b[0m\n\u001b[1;32m   1796\u001b[0m         \u001b[0;32mif\u001b[0m \u001b[0mfontdict\u001b[0m \u001b[0;32mis\u001b[0m \u001b[0;32mnot\u001b[0m \u001b[0;32mNone\u001b[0m\u001b[0;34m:\u001b[0m\u001b[0;34m\u001b[0m\u001b[0;34m\u001b[0m\u001b[0m\n\u001b[1;32m   1797\u001b[0m             \u001b[0mkwargs\u001b[0m\u001b[0;34m.\u001b[0m\u001b[0mupdate\u001b[0m\u001b[0;34m(\u001b[0m\u001b[0mfontdict\u001b[0m\u001b[0;34m)\u001b[0m\u001b[0;34m\u001b[0m\u001b[0;34m\u001b[0m\u001b[0m\n\u001b[0;32m-> 1798\u001b[0;31m         \u001b[0;32mreturn\u001b[0m \u001b[0mself\u001b[0m\u001b[0;34m.\u001b[0m\u001b[0mset_ticklabels\u001b[0m\u001b[0;34m(\u001b[0m\u001b[0mlabels\u001b[0m\u001b[0;34m,\u001b[0m \u001b[0mminor\u001b[0m\u001b[0;34m=\u001b[0m\u001b[0mminor\u001b[0m\u001b[0;34m,\u001b[0m \u001b[0;34m**\u001b[0m\u001b[0mkwargs\u001b[0m\u001b[0;34m)\u001b[0m\u001b[0;34m\u001b[0m\u001b[0;34m\u001b[0m\u001b[0m\n\u001b[0m\u001b[1;32m   1799\u001b[0m \u001b[0;34m\u001b[0m\u001b[0m\n\u001b[1;32m   1800\u001b[0m     \u001b[0;32mdef\u001b[0m \u001b[0m_set_tick_locations\u001b[0m\u001b[0;34m(\u001b[0m\u001b[0mself\u001b[0m\u001b[0;34m,\u001b[0m \u001b[0mticks\u001b[0m\u001b[0;34m,\u001b[0m \u001b[0;34m*\u001b[0m\u001b[0;34m,\u001b[0m \u001b[0mminor\u001b[0m\u001b[0;34m=\u001b[0m\u001b[0;32mFalse\u001b[0m\u001b[0;34m)\u001b[0m\u001b[0;34m:\u001b[0m\u001b[0;34m\u001b[0m\u001b[0;34m\u001b[0m\u001b[0m\n",
      "\u001b[0;32m~/opt/anaconda3/lib/python3.8/site-packages/matplotlib/axis.py\u001b[0m in \u001b[0;36mset_ticklabels\u001b[0;34m(self, ticklabels, minor, **kwargs)\u001b[0m\n\u001b[1;32m   1718\u001b[0m             \u001b[0;31m# remove all tick labels, so only error for > 0 ticklabels\u001b[0m\u001b[0;34m\u001b[0m\u001b[0;34m\u001b[0m\u001b[0;34m\u001b[0m\u001b[0m\n\u001b[1;32m   1719\u001b[0m             \u001b[0;32mif\u001b[0m \u001b[0mlen\u001b[0m\u001b[0;34m(\u001b[0m\u001b[0mlocator\u001b[0m\u001b[0;34m.\u001b[0m\u001b[0mlocs\u001b[0m\u001b[0;34m)\u001b[0m \u001b[0;34m!=\u001b[0m \u001b[0mlen\u001b[0m\u001b[0;34m(\u001b[0m\u001b[0mticklabels\u001b[0m\u001b[0;34m)\u001b[0m \u001b[0;32mand\u001b[0m \u001b[0mlen\u001b[0m\u001b[0;34m(\u001b[0m\u001b[0mticklabels\u001b[0m\u001b[0;34m)\u001b[0m \u001b[0;34m!=\u001b[0m \u001b[0;36m0\u001b[0m\u001b[0;34m:\u001b[0m\u001b[0;34m\u001b[0m\u001b[0;34m\u001b[0m\u001b[0m\n\u001b[0;32m-> 1720\u001b[0;31m                 raise ValueError(\n\u001b[0m\u001b[1;32m   1721\u001b[0m                     \u001b[0;34m\"The number of FixedLocator locations\"\u001b[0m\u001b[0;34m\u001b[0m\u001b[0;34m\u001b[0m\u001b[0m\n\u001b[1;32m   1722\u001b[0m                     \u001b[0;34mf\" ({len(locator.locs)}), usually from a call to\"\u001b[0m\u001b[0;34m\u001b[0m\u001b[0;34m\u001b[0m\u001b[0m\n",
      "\u001b[0;31mValueError\u001b[0m: The number of FixedLocator locations (4), usually from a call to set_ticks, does not match the number of ticklabels (3)."
     ]
    },
    {
     "data": {
      "image/png": "[encoded data removed]",
      "text/plain": [
       "<Figure size 720x576 with 1 Axes>"
      ]
     },
     "metadata": {
      "needs_background": "light"
     },
     "output_type": "display_data"
    }
   ],
   "source": [
    "# Radar chart\n",
    "max = r2.values.max()\n",
    "min = r2.values.min()\n",
    "\n",
    "fig = plt.figure(figsize=(10, 8))\n",
    "ax = fig.add_subplot(111, polar=True)\n",
    "centre_num = r.values\n",
    "feature = ['Recency','Frequency','Monetary Value']\n",
    "N = len(feature)\n",
    "\n",
    "for i, v in enumerate(centre_num):\n",
    "    angles = np.linspace(0, 2 * np.pi, N, endpoint=False) \n",
    "    centre = np.concatenate((v[:-1], [v[0]]))\n",
    "    angles = np.concatenate((angles, [angles[0]]))\n",
    "\n",
    "    ax.plot(angles, centre, 'o-', linewidth=2, label=\"Category%d, %d\"%(i+1,v[-1]))\n",
    "    ax.fill(angles, centre, alpha=0.25)\n",
    "    ax.set_thetagrids(angles * 180 / np.pi, feature, fontsize=15)\n",
    "    ax.set_ylim(min - 0.1, max + 0.1)\n",
    "    plt.title('Customer Segment Profile Chart', fontsize=22)\n",
    "    ax.grid(True)\n",
    "    plt.legend(loc='upper right', bbox_to_anchor=(1.3, 1.0), ncol=1, fancybox=True, shadow=True)\n",
    "\n",
    "plt.show()"
   ]
  }
 ],
 "metadata": {
  "kernelspec": {
   "display_name": "Python 3",
   "language": "python",
   "name": "python3"
  },
  "language_info": {
   "codemirror_mode": {
    "name": "ipython",
    "version": 3
   },
   "file_extension": ".py",
   "mimetype": "text/x-python",
   "name": "python",
   "nbconvert_exporter": "python",
   "pygments_lexer": "ipython3",
   "version": "3.8.8"
  },
  "toc": {
   "base_numbering": 1,
   "nav_menu": {},
   "number_sections": true,
   "sideBar": true,
   "skip_h1_title": false,
   "title_cell": "Table of Contents",
   "title_sidebar": "Contents",
   "toc_cell": false,
   "toc_position": {},
   "toc_section_display": true,
   "toc_window_display": false
  }
 },
 "nbformat": 4,
 "nbformat_minor": 5
}
